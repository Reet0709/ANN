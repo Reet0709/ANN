{
  "nbformat": 4,
  "nbformat_minor": 0,
  "metadata": {
    "colab": {
      "name": "ANN1.ipynb",
      "provenance": []
    },
    "kernelspec": {
      "name": "python3",
      "display_name": "Python 3"
    },
    "language_info": {
      "name": "python"
    }
  },
  "cells": [
    {
      "cell_type": "markdown",
      "metadata": {
        "id": "qoNMIjA9QURp"
      },
      "source": [
        "Training a perceptron to identify even and odd numbers "
      ]
    },
    {
      "cell_type": "code",
      "metadata": {
        "colab": {
          "base_uri": "https://localhost:8080/"
        },
        "id": "NwlF09-K7dSI",
        "outputId": "64359d26-879e-48ba-9b15-c013826ba9fb"
      },
      "source": [
        "alpha = 1; b = 0; w1 = 0; w2 = 0; w3 = 0; w4 = 0;\n",
        "\n",
        "x1 = [-1,-1,-1,-1,-1,-1,-1,-1,1,1];\n",
        "x2 = [-1,-1,-1,-1,1,1,1,1,-1];\n",
        "x3 = [-1,-1,1,1,-1,-1,1,1,-1,-1];\n",
        "x4 = [-1,1,-1,1,-1,1-1,1,-1,1];\n",
        "t = [-1,1,-1,1,-1,1-1,1,-1,1];\n",
        "\n",
        "i = 0;\n",
        "\n",
        "x = int(input(\"enter the value\"));\n",
        "\n",
        "yin=b+x1[0]*w1+x2[0]*w2+x3[0]*w3+x4[0]*w4;\n",
        "\n",
        "if yin>0:\n",
        "    yin=1\n",
        "elif yin==0:\n",
        "    yin=0\n",
        "else:\n",
        "    yin=-1\n",
        "    \n",
        "while(yin!=t[i]):\n",
        "    \n",
        "    #print(\"value of yin and t is\", yin, t[i]);\n",
        "    b=b+alpha*t[i];\n",
        "    w1=w1+alpha*x1[i]*t[i];\n",
        "    w2=w2+alpha*x2[i]*t[i];\n",
        "    w3=w3+alpha*x3[i]*t[i];\n",
        "    w4=w4+alpha*x4[i]*t[i];\n",
        "    #print(\"values of b w1 w2 w3 w4\", b,w1,w2,w3,w4)\n",
        "    i = i+1\n",
        "    \n",
        "    yin=b+x1[0]*w1+x2[0]*w2+x3[0]*w3+x4[0]*w4;\n",
        "    \n",
        "    if yin>0:\n",
        "        yin=1\n",
        "    elif yin==0:\n",
        "        yin=0;\n",
        "    else:\n",
        "        yin=-1\n",
        "print(\"value of yin and t is\", yin, t[i]);\n",
        "\n",
        "if yin!=t[i]:\n",
        "    print(\"perceptron cant learn\")\n",
        "else:\n",
        "    y=x%10;\n",
        "    k=0;\n",
        "    \n",
        "    if y==0:\n",
        "        bin=[0,0,0,0];\n",
        "    else:\n",
        "        bin=[0,0,0,0];\n",
        "        while y!=0:\n",
        "            bin[k]=y%2;\n",
        "            y=int(y/2);\n",
        "            k=k+1;\n",
        "    net=b+bin[3]*w1+bin[2]*w2+bin[1]*w3+bin[0]*w4;\n",
        "    print(\"net value\", net);\n",
        "    if net >0:\n",
        "        print(\"No.is odd\");\n",
        "    else:\n",
        "        print(\"No.is Even\")\n"
      ],
      "execution_count": null,
      "outputs": [
        {
          "output_type": "stream",
          "text": [
            "enter the value7986\n",
            "value of yin and t is -1 -1\n",
            "net value 0\n",
            "No.is Even\n"
          ],
          "name": "stdout"
        }
      ]
    }
  ]
}